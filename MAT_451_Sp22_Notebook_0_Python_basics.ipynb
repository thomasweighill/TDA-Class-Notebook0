{
  "nbformat": 4,
  "nbformat_minor": 0,
  "metadata": {
    "colab": {
      "name": "MAT 451 Sp22 Notebook 0: Python basics",
      "provenance": [],
      "collapsed_sections": []
    },
    "kernelspec": {
      "name": "python3",
      "display_name": "Python 3"
    }
  },
  "cells": [
    {
      "cell_type": "markdown",
      "metadata": {
        "id": "eYh6uXMxdWrV"
      },
      "source": [
        "# Python and jupyterhub basics\n",
        "\n",
        "Welcome to this `jupyter` notebook! A `jupyter` notebook is a way to organize Python code and text into blocks which can be run one by one. It's my personal favorite way to do lightweight coding with a lot of visual components. This notebook is to introduce you to some basic Python concepts we will need in this course."
      ]
    },
    {
      "cell_type": "markdown",
      "source": [
        "## Running blocks of code\n",
        "\n",
        "The first thing you need to do is know how to run a code block. The grey block below is a _code block_. You can run it by clicking on the little play button that appears on the left when you click on the block. (You can also use Shift+Return as a shortcut)."
      ],
      "metadata": {
        "id": "8Doiz1cCGUsI"
      }
    },
    {
      "cell_type": "code",
      "source": [
        "print('Welcome to TDA!')"
      ],
      "metadata": {
        "id": "GWcVZJmdGXWR"
      },
      "execution_count": null,
      "outputs": []
    },
    {
      "cell_type": "markdown",
      "source": [
        "If you ran it successfully, it should have printed a message for you. That printed message is stored in the notebook as well, so when you download it later on, it'll still be there.\n",
        "\n",
        "One of the basic operations in Python is to store a value in a variable. For example, let's store the value `2.5` in a variable `x`. We can do this by executing the following code block."
      ],
      "metadata": {
        "id": "04i7N89-Gt-0"
      }
    },
    {
      "cell_type": "code",
      "source": [
        "x = 2.5"
      ],
      "metadata": {
        "id": "jHbfC6v_HCvB"
      },
      "execution_count": null,
      "outputs": []
    },
    {
      "cell_type": "markdown",
      "source": [
        "When you ran the block, nothing was printed as output. However, if you want to see what's in the variable `x`, you can just write a code block with that variable in it, and run it, like so."
      ],
      "metadata": {
        "id": "7yVClvBzHDzC"
      }
    },
    {
      "cell_type": "code",
      "source": [
        "x"
      ],
      "metadata": {
        "id": "oDtxAXZ6HcIV"
      },
      "execution_count": null,
      "outputs": []
    },
    {
      "cell_type": "markdown",
      "source": [
        "This seems very basic once you know it, but it's a fundamental trick for looking inside your variables.\n",
        "\n",
        "You may be wondering how I made this text in between the code blocks. You can make a text block by clicking +Text above. You can also make a code block by clicking +Code. The text blocks use Markdown typesetting, but we don't need to get into that."
      ],
      "metadata": {
        "id": "-dkuTO0jHdHQ"
      }
    },
    {
      "cell_type": "markdown",
      "metadata": {
        "id": "x3VKgW4ZehWW"
      },
      "source": [
        "## Importing a library"
      ]
    },
    {
      "cell_type": "markdown",
      "metadata": {
        "id": "DJpshfUheJWl"
      },
      "source": [
        "To use non-standard Python libraries, we need to import them. Try and execute the code block below to import `gudhi`. If it fails, let me know."
      ]
    },
    {
      "cell_type": "code",
      "metadata": {
        "id": "n7AMEkH1eGlw"
      },
      "source": [
        "import gudhi"
      ],
      "execution_count": null,
      "outputs": []
    },
    {
      "cell_type": "markdown",
      "metadata": {
        "id": "V0ci0Al7el1W"
      },
      "source": [
        "## Exercise 1: making and plotting noisy data\n",
        "\n",
        "As a basic exercise in Python, we are going to generate some noisy point cloud data and plot it. If you're already very familiar with Python, you can skip all this. "
      ]
    },
    {
      "cell_type": "markdown",
      "metadata": {
        "id": "C3oGXG4yeocN"
      },
      "source": [
        "First, let's import numpy, a great library for doing anything with vectors."
      ]
    },
    {
      "cell_type": "code",
      "metadata": {
        "id": "hJMz6LzGePDi"
      },
      "source": [
        "import numpy as np"
      ],
      "execution_count": null,
      "outputs": []
    },
    {
      "cell_type": "markdown",
      "metadata": {
        "id": "Hjc_Jv8Neu1Z"
      },
      "source": [
        "Let's generate a set of points which lie on a circle. We'll use list comprehension, which makes a list of numbers (or other objects) using a for loop. First let's generate a list of evenly spaced numbers between 0 and 1 using the numpy function arange."
      ]
    },
    {
      "cell_type": "code",
      "metadata": {
        "id": "IS3-AI_5fzKC"
      },
      "source": [
        "points_in_interval = np.arange(0,1,0.01)"
      ],
      "execution_count": null,
      "outputs": []
    },
    {
      "cell_type": "markdown",
      "metadata": {
        "id": "zyaOnk5Sf537"
      },
      "source": [
        "How do we see what's inside `points_in_interval`? That's right, just put in the variable and run the code block."
      ]
    },
    {
      "cell_type": "code",
      "metadata": {
        "id": "zPn4UCusgCp1"
      },
      "source": [
        "points_in_interval"
      ],
      "execution_count": null,
      "outputs": []
    },
    {
      "cell_type": "markdown",
      "metadata": {
        "id": "T-gkjoyggFl8"
      },
      "source": [
        "Now we can generate the x and y coordinates of our circular data set using a list comprehension. Our x-coordinates need to be a list of $\\cos(2 \\pi t)$ values where t goes from 0 to 1. Our y-coordinates are similar, just with sin not cos.\n",
        "\n",
        "*Python tip:* lines with # signs are comments and won't be executed. Use them for making your code more readable."
      ]
    },
    {
      "cell_type": "code",
      "metadata": {
        "id": "zDtxeXlpeuCV"
      },
      "source": [
        "#x-coordinates\n",
        "X = [np.cos(t*2*np.pi) for t in points_in_interval]"
      ],
      "execution_count": null,
      "outputs": []
    },
    {
      "cell_type": "code",
      "metadata": {
        "id": "fjpgh_MkfGId"
      },
      "source": [
        "#y-coordinates\n",
        "Y = [np.sin(t*2*np.pi) for t in points_in_interval]"
      ],
      "execution_count": null,
      "outputs": []
    },
    {
      "cell_type": "markdown",
      "metadata": {
        "id": "EUJIcsWqgpfc"
      },
      "source": [
        "Let's check we've done it right by plotting our data. We'll use matplotlib, a plotting library."
      ]
    },
    {
      "cell_type": "code",
      "metadata": {
        "id": "HWK38CRNgnUi"
      },
      "source": [
        "import matplotlib.pyplot as plt"
      ],
      "execution_count": null,
      "outputs": []
    },
    {
      "cell_type": "markdown",
      "metadata": {
        "id": "M6P1EDglg7F2"
      },
      "source": [
        "The function scatter() from matplotlib takes the x-coordinates and y-coordinates as arguments."
      ]
    },
    {
      "cell_type": "code",
      "metadata": {
        "id": "OsWJ5k54g6av"
      },
      "source": [
        "plt.scatter(X, Y)"
      ],
      "execution_count": null,
      "outputs": []
    },
    {
      "cell_type": "markdown",
      "metadata": {
        "id": "as0ciX_BhaN0"
      },
      "source": [
        "It doesn't look quite circular, because the axes are not equally scaled. That's easy to fix if we really want to..."
      ]
    },
    {
      "cell_type": "code",
      "metadata": {
        "id": "bfWfbSQcg47u"
      },
      "source": [
        "plt.scatter(X, Y)\n",
        "plt.axis('equal')"
      ],
      "execution_count": null,
      "outputs": []
    },
    {
      "cell_type": "markdown",
      "metadata": {
        "id": "wEknC_xNhlsv"
      },
      "source": [
        "Okay, time to noise up this data. We can use numpy's random.normal function to make a list of random values from a normal distribution.\n",
        "The \"scale\" parameter is just the standard deviation of the distribution we're sampling from. We'll make the size of the list equal to the length of X, so len(X)."
      ]
    },
    {
      "cell_type": "code",
      "metadata": {
        "id": "vi7ugyU8hhya"
      },
      "source": [
        "X_noise = np.random.normal(scale=0.1, size=len(X))"
      ],
      "execution_count": null,
      "outputs": []
    },
    {
      "cell_type": "markdown",
      "metadata": {
        "id": "Ae6K8GneiV-V"
      },
      "source": [
        "Look at it!"
      ]
    },
    {
      "cell_type": "code",
      "metadata": {
        "id": "LUuiIoiHh6wk"
      },
      "source": [
        "X_noise"
      ],
      "execution_count": null,
      "outputs": []
    },
    {
      "cell_type": "markdown",
      "metadata": {
        "id": "AJQVCXMOiZF5"
      },
      "source": [
        "We can plot a histogram of it to check it looks \"normal\"."
      ]
    },
    {
      "cell_type": "code",
      "metadata": {
        "id": "L8yG6crTiXKJ"
      },
      "source": [
        "plt.hist(X_noise)"
      ],
      "execution_count": null,
      "outputs": []
    },
    {
      "cell_type": "markdown",
      "metadata": {
        "id": "17TJttT1ie0X"
      },
      "source": [
        "Okay let's make the Y noise and add the noise to our vectors. In order to add lists properly, we have to turn them into numpy arrays, i.e. vectors."
      ]
    },
    {
      "cell_type": "code",
      "metadata": {
        "id": "EuzjxQAiidBZ"
      },
      "source": [
        "Y_noise = np.random.normal(scale=0.1, size=len(X))\n",
        "#turn the X and Y into vectors and add the noise\n",
        "X = np.array(X) + np.array(X_noise)\n",
        "Y = np.array(Y) + np.array(Y_noise)"
      ],
      "execution_count": null,
      "outputs": []
    },
    {
      "cell_type": "markdown",
      "metadata": {
        "id": "mWp0MHQ5jR_d"
      },
      "source": [
        "We can use the same code as before to look at our noisy data."
      ]
    },
    {
      "cell_type": "code",
      "metadata": {
        "id": "6sWgqOv6jQe9"
      },
      "source": [
        "plt.scatter(X, Y)\n",
        "plt.axis('equal')"
      ],
      "execution_count": null,
      "outputs": []
    },
    {
      "cell_type": "markdown",
      "metadata": {
        "id": "eg-WS9kBjWht"
      },
      "source": [
        "## Basic Exercise 2: Handling arrays\n",
        "We will frequently have to deal with values stored as a 2D array or matrix, and it helps to know how to manipulate these. \n",
        "\n",
        "The basic data structure in `numpy` is an array. You can build an array from a list like this:"
      ]
    },
    {
      "cell_type": "code",
      "source": [
        "X = np.array([1,2,3,4,5])"
      ],
      "metadata": {
        "id": "QK7-ozk1jY1P"
      },
      "execution_count": null,
      "outputs": []
    },
    {
      "cell_type": "code",
      "source": [
        "X"
      ],
      "metadata": {
        "id": "AvvgYtWXjpd6"
      },
      "execution_count": null,
      "outputs": []
    },
    {
      "cell_type": "markdown",
      "source": [
        "We have now made `X` a 1D array. If we want a 2D array, we have to input a list of lists, like so."
      ],
      "metadata": {
        "id": "4yc-Y1Okjt6g"
      }
    },
    {
      "cell_type": "code",
      "source": [
        "M = np.array([[1,2,3],[4,5,6]])"
      ],
      "metadata": {
        "id": "Smp243imjtLN"
      },
      "execution_count": null,
      "outputs": []
    },
    {
      "cell_type": "code",
      "source": [
        "M"
      ],
      "metadata": {
        "id": "JkRqEfnuj21I"
      },
      "execution_count": null,
      "outputs": []
    },
    {
      "cell_type": "markdown",
      "source": [
        "What if I want to access the (1,2) entry of M, that is, the entry in row 1 and column 2? (Remember, Python indexes from 0). This is how you do that."
      ],
      "metadata": {
        "id": "Fr5AYVXbj4eB"
      }
    },
    {
      "cell_type": "code",
      "source": [
        "M[1,2]"
      ],
      "metadata": {
        "id": "J--9eOfGj3Ce"
      },
      "execution_count": null,
      "outputs": []
    },
    {
      "cell_type": "markdown",
      "source": [
        "By using a `:`, you can access whole rows or whole columns. "
      ],
      "metadata": {
        "id": "fOTnC08OkEuZ"
      }
    },
    {
      "cell_type": "code",
      "source": [
        "M[1,:]"
      ],
      "metadata": {
        "id": "Nd-pk_HWkClA"
      },
      "execution_count": null,
      "outputs": []
    },
    {
      "cell_type": "code",
      "source": [
        "M[:,2]"
      ],
      "metadata": {
        "id": "oHGAH3kHkJQA"
      },
      "execution_count": null,
      "outputs": []
    },
    {
      "cell_type": "markdown",
      "source": [
        "A common error is to try and access a row that doesn't exist. Here's what happens if I try to access the 5th row of `M`."
      ],
      "metadata": {
        "id": "MO4DEqwMkN_0"
      }
    },
    {
      "cell_type": "code",
      "source": [
        "M[5,:]"
      ],
      "metadata": {
        "id": "PNkb-LxokKZg"
      },
      "execution_count": null,
      "outputs": []
    },
    {
      "cell_type": "markdown",
      "source": [
        "A crucial part of learning to code in a new environment is learning what different errors mean. Some are helpful, like the above. Some are not so helpful though. When in doubt, **Google the error**. You would be surprised how often researchers (e.g. me) do this every day while coding."
      ],
      "metadata": {
        "id": "f1KldTx8kVlt"
      }
    },
    {
      "cell_type": "markdown",
      "source": [
        "There's too much basic Python to cover in a single notebook, but here is an important trick that I want to mention. Python _loves_ lists (things that look like `[a,b,c]`). It is set up to handle them very nicely. _List comprehension_ is a way of working through a list one element at a time and calculating some output. For example, suppose I have this list: "
      ],
      "metadata": {
        "id": "QFhWyfe7ktot"
      }
    },
    {
      "cell_type": "code",
      "source": [
        "l = [1,2,3,4,5]"
      ],
      "metadata": {
        "id": "2trazmXpkUhi"
      },
      "execution_count": null,
      "outputs": []
    },
    {
      "cell_type": "markdown",
      "source": [
        "I want to create a new list whose entries are the entries of `l` times two. I can do this with list comprehension like so."
      ],
      "metadata": {
        "id": "aawZZkYHlJM7"
      }
    },
    {
      "cell_type": "code",
      "source": [
        "m = [2*x for x in l]"
      ],
      "metadata": {
        "id": "4wgZSHCalHR1"
      },
      "execution_count": null,
      "outputs": []
    },
    {
      "cell_type": "code",
      "source": [
        "m"
      ],
      "metadata": {
        "id": "jJEi570LlTSu"
      },
      "execution_count": null,
      "outputs": []
    },
    {
      "cell_type": "markdown",
      "source": [
        "I can also create a list consisting only of those elements which are greater than two like this."
      ],
      "metadata": {
        "id": "3pTPpXGVlVAl"
      }
    },
    {
      "cell_type": "code",
      "source": [
        "m = [x for x in l if x > 2]"
      ],
      "metadata": {
        "id": "fv4ERFA7lT-v"
      },
      "execution_count": null,
      "outputs": []
    },
    {
      "cell_type": "code",
      "source": [
        "m"
      ],
      "metadata": {
        "id": "oi7wzzk4lgXB"
      },
      "execution_count": null,
      "outputs": []
    },
    {
      "cell_type": "markdown",
      "source": [
        "If you want to do something to a list, chances are you can do it with list comprehension. "
      ],
      "metadata": {
        "id": "boYKp6U3lit9"
      }
    },
    {
      "cell_type": "markdown",
      "source": [
        "## Handing in your work"
      ],
      "metadata": {
        "id": "zjiVK0b_Ig2F"
      }
    },
    {
      "cell_type": "markdown",
      "source": [
        "When you've finished a notebook, you need to download the .ipynb file and upload it to Canvas in the right assignment. Try this now. Download this file (the .ipynb file) and upload it to Assignment 0."
      ],
      "metadata": {
        "id": "x2S3kr3xIjDx"
      }
    }
  ]
}